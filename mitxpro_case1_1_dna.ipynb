{
 "cells": [
  {
   "cell_type": "code",
   "execution_count": 1,
   "metadata": {},
   "outputs": [],
   "source": [
    "import pandas as pd\n",
    "from sklearn.preprocessing import StandardScaler\n",
    "from sklearn.decomposition import PCA\n",
    "import numpy as np\n",
    "import matplotlib.pyplot as plt\n",
    "from sklearn.cluster import KMeans\n",
    "from sklearn.metrics import silhouette_score \n",
    "from kneed import KneeLocator\n"
   ]
  },
  {
   "cell_type": "markdown",
   "metadata": {},
   "source": [
    "# Load the data"
   ]
  },
  {
   "cell_type": "code",
   "execution_count": 2,
   "metadata": {},
   "outputs": [
    {
     "name": "stdout",
     "output_type": "stream",
     "text": [
      "gccgatagcctatgatcccc\n"
     ]
    }
   ],
   "source": [
    "dfile = open(\"ccrescentus.fa\",\"r\") #downloaded from www.ihes.fr/~zinovyev/pcadg/\n",
    "dfile.readline() #skip first line\n",
    "gene =''\n",
    "for line in dfile:\n",
    "    gene = gene + line.rstrip() #gene is full gene, there are some newline characters which need to be stripped\n",
    "\n",
    "\n",
    "\n",
    "dfile.close()\n",
    "print(gene[:20]) #check end of string to make sure no info is appended. \n"
   ]
  },
  {
   "cell_type": "code",
   "execution_count": 3,
   "metadata": {},
   "outputs": [
    {
     "name": "stdout",
     "output_type": "stream",
     "text": [
      "305400\n",
      "1018\n",
      "305400\n"
     ]
    }
   ],
   "source": [
    "# Check length of gene and how many 300 letter fragments to split in. \n",
    "FullLen = len(gene)\n",
    "print(FullLen)\n",
    "indexMult = int(FullLen/300)\n",
    "print(indexMult)\n",
    "print(indexMult*300)\n"
   ]
  },
  {
   "cell_type": "markdown",
   "metadata": {},
   "source": [
    "# Break the gene into fragments of size 300 letters"
   ]
  },
  {
   "cell_type": "code",
   "execution_count": 4,
   "metadata": {},
   "outputs": [],
   "source": [
    "wordLst =[] \n",
    "#firstWord = gene[0:300]\n",
    "#wordLst.append(firstWord)\n",
    "for i in range(0,indexMult):\n",
    "    strtIndx = i*300\n",
    "    endIndx = (i+1)*300\n",
    "    word = gene[strtIndx:endIndx]\n",
    "    wordLst.append(word)\n",
    "    "
   ]
  },
  {
   "cell_type": "code",
   "execution_count": 5,
   "metadata": {},
   "outputs": [
    {
     "data": {
      "text/plain": [
       "'cgaagggttggacgagaacttgctgcggtagctgccgtcatagccgacatagaactcgcccgtcttgcccaggaagtcgcccggaacattggcctcggcccccagggccacgctccacttcgaaacgcccggcagccgctgacccgagacgtcgcagttggcggggctgagcgcgccggccacgccggccgcgcgcggaacctgggttccggtcgccaccgtgccgcccgacagttccggcgggcagggcgcgtcgacaaagcgcacatacttggcgtcggtataggcggcgttcagata'"
      ]
     },
     "execution_count": 5,
     "metadata": {},
     "output_type": "execute_result"
    }
   ],
   "source": [
    "wordLst[1]"
   ]
  },
  {
   "cell_type": "code",
   "execution_count": 6,
   "metadata": {},
   "outputs": [],
   "source": [
    "#This function is not used anywhere in this project - it was written for curiosity.\n",
    "#It produces all arrangements of a given list of letters\n",
    "def arrange(set1,c,result):\n",
    "    len1 = len(set1)\n",
    "    \n",
    "    if len1!=2:\n",
    "\n",
    "        for i in range(0,len1):\n",
    "            X=c+str( set1[i])\n",
    "            set2=[]\n",
    "            for j in range(0,len1):\n",
    "                if i!=j:\n",
    "                    set2.append(set1[j])\n",
    "            arrange(set2,X,result)\n",
    "    else:\n",
    "        \n",
    "        #print(c+str(set1[0])+str(set1[1]))\n",
    "        r1 =c+str(set1[0])+str(set1[1])\n",
    "        result.append(r1)\n",
    "        #print (c+str(set1[1])+str(set1[0]))\n",
    "        r2 =c+str(set1[1])+str(set1[0])\n",
    "        result.append(r2)\n",
    "        \n",
    "        c=\"\"\n",
    "        #return result"
   ]
  },
  {
   "cell_type": "markdown",
   "metadata": {},
   "source": [
    "# Find all possible combinations of 4 letters of the gene, grouped word size:  2, 3 or 4 at a time"
   ]
  },
  {
   "cell_type": "code",
   "execution_count": 7,
   "metadata": {},
   "outputs": [],
   "source": [
    "#This function is used to produced all combinations with repetition of letters up to a certain word length. \n",
    "def allCombinations(lst,c,wordLen,result):\n",
    "    len1 = len(lst)\n",
    "    if wordLen!=1:\n",
    "        for i in range(0,len1):\n",
    "            X = c+lst[i]\n",
    "            allCombinations(lst,X,wordLen-1,result)\n",
    "            \n",
    "    else:\n",
    "        for elm in lst:\n",
    "            r1 = c+elm\n",
    "            #print(r1)\n",
    "            result.append(r1)\n",
    "    \n",
    "        \n",
    "            \n",
    "    \n",
    "    "
   ]
  },
  {
   "cell_type": "code",
   "execution_count": 8,
   "metadata": {},
   "outputs": [],
   "source": [
    "#Call the function above to \n",
    "singlet =['a','c','g','t']\n",
    "allCombo2=[]\n",
    "allCombo3 =[]\n",
    "allCombo4 =[]\n",
    "allCombinations(singlet,'',2,allCombo2)\n",
    "allCombinations(singlet,'',3,allCombo3)\n",
    "allCombinations(singlet,'',4,allCombo4)\n",
    "#len(allCombo)"
   ]
  },
  {
   "cell_type": "markdown",
   "metadata": {},
   "source": [
    "# Split the 300 letter fragments into smaller words of 2, 3 or 4 letters, count frequency against all possible combinations. "
   ]
  },
  {
   "cell_type": "code",
   "execution_count": 9,
   "metadata": {},
   "outputs": [],
   "source": [
    "def fragmentSplit(fragment,n):\n",
    "    lenFrag = len(fragment)\n",
    "    indxMult = int(lenFrag/n)\n",
    "    #print(indxMult)\n",
    "    smallwordLst =[] \n",
    "\n",
    "    for i in range(0,indxMult):\n",
    "        strtIndx = i*n\n",
    "        endIndx = (i+1)*n\n",
    "        word = fragment[strtIndx:endIndx]\n",
    "        smallwordLst.append(word)\n",
    "    return smallwordLst\n"
   ]
  },
  {
   "cell_type": "code",
   "execution_count": 10,
   "metadata": {},
   "outputs": [],
   "source": [
    "def countFreq(buckets,wordLst,n):\n",
    "    countDict ={}\n",
    "    \n",
    "    for bucket in buckets:\n",
    "        row =[]\n",
    "        for fragment in wordLst:\n",
    "            splitFragment = fragmentSplit(fragment,n)\n",
    "            occurance = splitFragment.count(bucket)\n",
    "            row.append(occurance)\n",
    "        countDict[bucket] = row\n",
    "    return countDict\n",
    "        \n",
    "        "
   ]
  },
  {
   "cell_type": "code",
   "execution_count": 11,
   "metadata": {},
   "outputs": [
    {
     "name": "stdout",
     "output_type": "stream",
     "text": [
      "['gcc', 'gat', 'agc', 'cta', 'tga', 'tcc', 'ccg', 'gca', 'ggc', 'ccg', 'ggg', 'ctt', 'gga', 'gcc', 'gtc', 'tgg', 'ttt', 'gga', 'tgg', 'aac', 'cct', 'cca', 'aac', 'cag', 'atc', 'aag', 'agg', 'ctc', 'cta', 'gaa', 'cgc', 'cgc', 'ccg', 'cag', 'ggt', 'cac', 'gcc', 'cca', 'ggt', 'gcg', 'cgg', 'gtc', 'gcc', 'cgg', 'ctg', 'gcc', 'ggc', 'gat', 'cag', 'gcc', 'ggt', 'gtt', 'gct', 'ggg', 'acc', 'cac', 'ggc', 'cag', 'ttg', 'ctc', 'gaa', 'ata', 'gtt', 'ctc', 'gtc', 'gaa', 'ggc', 'gtt', 'gcg', 'gac', 'cca', 'ggc', 'ata', 'gag', 'gtt', 'cag', 'ccc', 'ctc', 'agg', 'cgt', 'gcg', 'gaa', 'gcc', 'ggc', 'ccg', 'gaa', 'gtt', 'agc', 'gat', 'cgt', 'gta', 'gcc', 'gtc', 'aac', 'cca', 'ggt', 'gta', 'gat', 'cga', 'ggg']\n"
     ]
    }
   ],
   "source": [
    "splitW0 = fragmentSplit(wordLst[0],3)\n",
    "print(splitW0)"
   ]
  },
  {
   "cell_type": "markdown",
   "metadata": {},
   "source": [
    "# Example word length: 2, combinations=4^2 (four letters, combined 2 at a time with repetition), perform PCA to see if a pattern emerges. "
   ]
  },
  {
   "cell_type": "code",
   "execution_count": 12,
   "metadata": {},
   "outputs": [
    {
     "data": {
      "text/html": [
       "<div>\n",
       "<style scoped>\n",
       "    .dataframe tbody tr th:only-of-type {\n",
       "        vertical-align: middle;\n",
       "    }\n",
       "\n",
       "    .dataframe tbody tr th {\n",
       "        vertical-align: top;\n",
       "    }\n",
       "\n",
       "    .dataframe thead th {\n",
       "        text-align: right;\n",
       "    }\n",
       "</style>\n",
       "<table border=\"1\" class=\"dataframe\">\n",
       "  <thead>\n",
       "    <tr style=\"text-align: right;\">\n",
       "      <th></th>\n",
       "      <th>aa</th>\n",
       "      <th>ac</th>\n",
       "      <th>ag</th>\n",
       "      <th>at</th>\n",
       "      <th>ca</th>\n",
       "      <th>cc</th>\n",
       "      <th>cg</th>\n",
       "      <th>ct</th>\n",
       "      <th>ga</th>\n",
       "      <th>gc</th>\n",
       "      <th>gg</th>\n",
       "      <th>gt</th>\n",
       "      <th>ta</th>\n",
       "      <th>tc</th>\n",
       "      <th>tg</th>\n",
       "      <th>tt</th>\n",
       "    </tr>\n",
       "  </thead>\n",
       "  <tbody>\n",
       "    <tr>\n",
       "      <th>0</th>\n",
       "      <td>6</td>\n",
       "      <td>6</td>\n",
       "      <td>17</td>\n",
       "      <td>6</td>\n",
       "      <td>6</td>\n",
       "      <td>21</td>\n",
       "      <td>10</td>\n",
       "      <td>3</td>\n",
       "      <td>4</td>\n",
       "      <td>16</td>\n",
       "      <td>20</td>\n",
       "      <td>11</td>\n",
       "      <td>3</td>\n",
       "      <td>10</td>\n",
       "      <td>6</td>\n",
       "      <td>5</td>\n",
       "    </tr>\n",
       "    <tr>\n",
       "      <th>1</th>\n",
       "      <td>7</td>\n",
       "      <td>6</td>\n",
       "      <td>8</td>\n",
       "      <td>2</td>\n",
       "      <td>12</td>\n",
       "      <td>17</td>\n",
       "      <td>19</td>\n",
       "      <td>7</td>\n",
       "      <td>5</td>\n",
       "      <td>22</td>\n",
       "      <td>17</td>\n",
       "      <td>8</td>\n",
       "      <td>4</td>\n",
       "      <td>4</td>\n",
       "      <td>6</td>\n",
       "      <td>6</td>\n",
       "    </tr>\n",
       "    <tr>\n",
       "      <th>2</th>\n",
       "      <td>0</td>\n",
       "      <td>5</td>\n",
       "      <td>11</td>\n",
       "      <td>5</td>\n",
       "      <td>6</td>\n",
       "      <td>14</td>\n",
       "      <td>19</td>\n",
       "      <td>5</td>\n",
       "      <td>8</td>\n",
       "      <td>21</td>\n",
       "      <td>14</td>\n",
       "      <td>7</td>\n",
       "      <td>1</td>\n",
       "      <td>13</td>\n",
       "      <td>12</td>\n",
       "      <td>9</td>\n",
       "    </tr>\n",
       "    <tr>\n",
       "      <th>3</th>\n",
       "      <td>4</td>\n",
       "      <td>7</td>\n",
       "      <td>10</td>\n",
       "      <td>0</td>\n",
       "      <td>9</td>\n",
       "      <td>9</td>\n",
       "      <td>18</td>\n",
       "      <td>9</td>\n",
       "      <td>6</td>\n",
       "      <td>20</td>\n",
       "      <td>17</td>\n",
       "      <td>11</td>\n",
       "      <td>6</td>\n",
       "      <td>6</td>\n",
       "      <td>13</td>\n",
       "      <td>5</td>\n",
       "    </tr>\n",
       "    <tr>\n",
       "      <th>4</th>\n",
       "      <td>3</td>\n",
       "      <td>5</td>\n",
       "      <td>14</td>\n",
       "      <td>4</td>\n",
       "      <td>7</td>\n",
       "      <td>10</td>\n",
       "      <td>12</td>\n",
       "      <td>11</td>\n",
       "      <td>12</td>\n",
       "      <td>16</td>\n",
       "      <td>14</td>\n",
       "      <td>8</td>\n",
       "      <td>0</td>\n",
       "      <td>11</td>\n",
       "      <td>15</td>\n",
       "      <td>8</td>\n",
       "    </tr>\n",
       "  </tbody>\n",
       "</table>\n",
       "</div>"
      ],
      "text/plain": [
       "   aa  ac  ag  at  ca  cc  cg  ct  ga  gc  gg  gt  ta  tc  tg  tt\n",
       "0   6   6  17   6   6  21  10   3   4  16  20  11   3  10   6   5\n",
       "1   7   6   8   2  12  17  19   7   5  22  17   8   4   4   6   6\n",
       "2   0   5  11   5   6  14  19   5   8  21  14   7   1  13  12   9\n",
       "3   4   7  10   0   9   9  18   9   6  20  17  11   6   6  13   5\n",
       "4   3   5  14   4   7  10  12  11  12  16  14   8   0  11  15   8"
      ]
     },
     "execution_count": 12,
     "metadata": {},
     "output_type": "execute_result"
    }
   ],
   "source": [
    "freq2 = countFreq(allCombo2,wordLst,2)\n",
    "df_2LW = pd.DataFrame.from_dict(freq2) #dataframe of two letter word\n",
    "df_2LW.head()"
   ]
  },
  {
   "cell_type": "code",
   "execution_count": 13,
   "metadata": {},
   "outputs": [],
   "source": [
    "df2 = StandardScaler().fit_transform(df_2LW)\n",
    "\n",
    "pca = PCA(n_components=2)\n",
    "principalComponents = pca.fit_transform(df2)\n",
    "principalDf = pd.DataFrame(data = principalComponents\n",
    "             , columns = ['principal component 1', 'principal component 2'])"
   ]
  },
  {
   "cell_type": "code",
   "execution_count": 14,
   "metadata": {},
   "outputs": [
    {
     "data": {
      "text/plain": [
       "<AxesSubplot:xlabel='principal component 1', ylabel='principal component 2'>"
      ]
     },
     "execution_count": 14,
     "metadata": {},
     "output_type": "execute_result"
    },
    {
     "data": {
      "image/png": "[encoded data removed]",
      "text/plain": [
       "<Figure size 432x288 with 1 Axes>"
      ]
     },
     "metadata": {
      "needs_background": "light"
     },
     "output_type": "display_data"
    }
   ],
   "source": [
    "principalDf.plot.scatter(x = 'principal component 1',y='principal component 2' )"
   ]
  },
  {
   "cell_type": "markdown",
   "metadata": {},
   "source": [
    "Conclusion: just a blob, no visible pattern.\n"
   ]
  },
  {
   "cell_type": "markdown",
   "metadata": {},
   "source": [
    "# Example word length: 3, combinations=4^3 (64), perform PCA to see if a pattern emerges. "
   ]
  },
  {
   "cell_type": "code",
   "execution_count": 15,
   "metadata": {},
   "outputs": [
    {
     "data": {
      "text/html": [
       "<div>\n",
       "<style scoped>\n",
       "    .dataframe tbody tr th:only-of-type {\n",
       "        vertical-align: middle;\n",
       "    }\n",
       "\n",
       "    .dataframe tbody tr th {\n",
       "        vertical-align: top;\n",
       "    }\n",
       "\n",
       "    .dataframe thead th {\n",
       "        text-align: right;\n",
       "    }\n",
       "</style>\n",
       "<table border=\"1\" class=\"dataframe\">\n",
       "  <thead>\n",
       "    <tr style=\"text-align: right;\">\n",
       "      <th></th>\n",
       "      <th>aaa</th>\n",
       "      <th>aac</th>\n",
       "      <th>aag</th>\n",
       "      <th>aat</th>\n",
       "      <th>aca</th>\n",
       "      <th>acc</th>\n",
       "      <th>acg</th>\n",
       "      <th>act</th>\n",
       "      <th>aga</th>\n",
       "      <th>agc</th>\n",
       "      <th>...</th>\n",
       "      <th>tcg</th>\n",
       "      <th>tct</th>\n",
       "      <th>tga</th>\n",
       "      <th>tgc</th>\n",
       "      <th>tgg</th>\n",
       "      <th>tgt</th>\n",
       "      <th>tta</th>\n",
       "      <th>ttc</th>\n",
       "      <th>ttg</th>\n",
       "      <th>ttt</th>\n",
       "    </tr>\n",
       "  </thead>\n",
       "  <tbody>\n",
       "    <tr>\n",
       "      <th>0</th>\n",
       "      <td>0</td>\n",
       "      <td>3</td>\n",
       "      <td>1</td>\n",
       "      <td>0</td>\n",
       "      <td>0</td>\n",
       "      <td>1</td>\n",
       "      <td>0</td>\n",
       "      <td>0</td>\n",
       "      <td>0</td>\n",
       "      <td>2</td>\n",
       "      <td>...</td>\n",
       "      <td>0</td>\n",
       "      <td>0</td>\n",
       "      <td>1</td>\n",
       "      <td>0</td>\n",
       "      <td>2</td>\n",
       "      <td>0</td>\n",
       "      <td>0</td>\n",
       "      <td>0</td>\n",
       "      <td>1</td>\n",
       "      <td>1</td>\n",
       "    </tr>\n",
       "    <tr>\n",
       "      <th>1</th>\n",
       "      <td>1</td>\n",
       "      <td>3</td>\n",
       "      <td>0</td>\n",
       "      <td>0</td>\n",
       "      <td>0</td>\n",
       "      <td>1</td>\n",
       "      <td>0</td>\n",
       "      <td>0</td>\n",
       "      <td>0</td>\n",
       "      <td>0</td>\n",
       "      <td>...</td>\n",
       "      <td>0</td>\n",
       "      <td>0</td>\n",
       "      <td>0</td>\n",
       "      <td>0</td>\n",
       "      <td>0</td>\n",
       "      <td>0</td>\n",
       "      <td>0</td>\n",
       "      <td>1</td>\n",
       "      <td>0</td>\n",
       "      <td>0</td>\n",
       "    </tr>\n",
       "    <tr>\n",
       "      <th>2</th>\n",
       "      <td>0</td>\n",
       "      <td>0</td>\n",
       "      <td>1</td>\n",
       "      <td>0</td>\n",
       "      <td>0</td>\n",
       "      <td>0</td>\n",
       "      <td>0</td>\n",
       "      <td>0</td>\n",
       "      <td>0</td>\n",
       "      <td>0</td>\n",
       "      <td>...</td>\n",
       "      <td>0</td>\n",
       "      <td>0</td>\n",
       "      <td>0</td>\n",
       "      <td>1</td>\n",
       "      <td>0</td>\n",
       "      <td>0</td>\n",
       "      <td>0</td>\n",
       "      <td>0</td>\n",
       "      <td>1</td>\n",
       "      <td>0</td>\n",
       "    </tr>\n",
       "    <tr>\n",
       "      <th>3</th>\n",
       "      <td>1</td>\n",
       "      <td>0</td>\n",
       "      <td>0</td>\n",
       "      <td>0</td>\n",
       "      <td>0</td>\n",
       "      <td>0</td>\n",
       "      <td>1</td>\n",
       "      <td>0</td>\n",
       "      <td>0</td>\n",
       "      <td>0</td>\n",
       "      <td>...</td>\n",
       "      <td>0</td>\n",
       "      <td>0</td>\n",
       "      <td>0</td>\n",
       "      <td>1</td>\n",
       "      <td>1</td>\n",
       "      <td>0</td>\n",
       "      <td>0</td>\n",
       "      <td>0</td>\n",
       "      <td>0</td>\n",
       "      <td>0</td>\n",
       "    </tr>\n",
       "    <tr>\n",
       "      <th>4</th>\n",
       "      <td>0</td>\n",
       "      <td>0</td>\n",
       "      <td>0</td>\n",
       "      <td>0</td>\n",
       "      <td>0</td>\n",
       "      <td>0</td>\n",
       "      <td>0</td>\n",
       "      <td>0</td>\n",
       "      <td>2</td>\n",
       "      <td>0</td>\n",
       "      <td>...</td>\n",
       "      <td>0</td>\n",
       "      <td>0</td>\n",
       "      <td>0</td>\n",
       "      <td>0</td>\n",
       "      <td>0</td>\n",
       "      <td>0</td>\n",
       "      <td>0</td>\n",
       "      <td>1</td>\n",
       "      <td>3</td>\n",
       "      <td>0</td>\n",
       "    </tr>\n",
       "  </tbody>\n",
       "</table>\n",
       "<p>5 rows × 64 columns</p>\n",
       "</div>"
      ],
      "text/plain": [
       "   aaa  aac  aag  aat  aca  acc  acg  act  aga  agc  ...  tcg  tct  tga  tgc  \\\n",
       "0    0    3    1    0    0    1    0    0    0    2  ...    0    0    1    0   \n",
       "1    1    3    0    0    0    1    0    0    0    0  ...    0    0    0    0   \n",
       "2    0    0    1    0    0    0    0    0    0    0  ...    0    0    0    1   \n",
       "3    1    0    0    0    0    0    1    0    0    0  ...    0    0    0    1   \n",
       "4    0    0    0    0    0    0    0    0    2    0  ...    0    0    0    0   \n",
       "\n",
       "   tgg  tgt  tta  ttc  ttg  ttt  \n",
       "0    2    0    0    0    1    1  \n",
       "1    0    0    0    1    0    0  \n",
       "2    0    0    0    0    1    0  \n",
       "3    1    0    0    0    0    0  \n",
       "4    0    0    0    1    3    0  \n",
       "\n",
       "[5 rows x 64 columns]"
      ]
     },
     "metadata": {},
     "output_type": "display_data"
    },
    {
     "data": {
      "text/html": [
       "<div>\n",
       "<style scoped>\n",
       "    .dataframe tbody tr th:only-of-type {\n",
       "        vertical-align: middle;\n",
       "    }\n",
       "\n",
       "    .dataframe tbody tr th {\n",
       "        vertical-align: top;\n",
       "    }\n",
       "\n",
       "    .dataframe thead th {\n",
       "        text-align: right;\n",
       "    }\n",
       "</style>\n",
       "<table border=\"1\" class=\"dataframe\">\n",
       "  <thead>\n",
       "    <tr style=\"text-align: right;\">\n",
       "      <th></th>\n",
       "      <th>aaa</th>\n",
       "      <th>aac</th>\n",
       "      <th>aag</th>\n",
       "      <th>aat</th>\n",
       "      <th>aca</th>\n",
       "      <th>acc</th>\n",
       "      <th>acg</th>\n",
       "      <th>act</th>\n",
       "      <th>aga</th>\n",
       "      <th>agc</th>\n",
       "      <th>...</th>\n",
       "      <th>tcg</th>\n",
       "      <th>tct</th>\n",
       "      <th>tga</th>\n",
       "      <th>tgc</th>\n",
       "      <th>tgg</th>\n",
       "      <th>tgt</th>\n",
       "      <th>tta</th>\n",
       "      <th>ttc</th>\n",
       "      <th>ttg</th>\n",
       "      <th>ttt</th>\n",
       "    </tr>\n",
       "  </thead>\n",
       "  <tbody>\n",
       "    <tr>\n",
       "      <th>count</th>\n",
       "      <td>1018.000000</td>\n",
       "      <td>1018.000000</td>\n",
       "      <td>1018.000000</td>\n",
       "      <td>1018.000000</td>\n",
       "      <td>1018.000000</td>\n",
       "      <td>1018.000000</td>\n",
       "      <td>1018.000000</td>\n",
       "      <td>1018.000000</td>\n",
       "      <td>1018.000000</td>\n",
       "      <td>1018.000000</td>\n",
       "      <td>...</td>\n",
       "      <td>1018.000000</td>\n",
       "      <td>1018.000000</td>\n",
       "      <td>1018.000000</td>\n",
       "      <td>1018.000000</td>\n",
       "      <td>1018.000000</td>\n",
       "      <td>1018.000000</td>\n",
       "      <td>1018.000000</td>\n",
       "      <td>1018.000000</td>\n",
       "      <td>1018.000000</td>\n",
       "      <td>1018.000000</td>\n",
       "    </tr>\n",
       "    <tr>\n",
       "      <th>mean</th>\n",
       "      <td>0.365422</td>\n",
       "      <td>0.830059</td>\n",
       "      <td>1.324165</td>\n",
       "      <td>0.289784</td>\n",
       "      <td>0.757367</td>\n",
       "      <td>1.687623</td>\n",
       "      <td>1.861493</td>\n",
       "      <td>0.487230</td>\n",
       "      <td>1.005894</td>\n",
       "      <td>1.857564</td>\n",
       "      <td>...</td>\n",
       "      <td>2.944990</td>\n",
       "      <td>1.028487</td>\n",
       "      <td>1.350688</td>\n",
       "      <td>1.549116</td>\n",
       "      <td>2.287819</td>\n",
       "      <td>0.722004</td>\n",
       "      <td>0.144401</td>\n",
       "      <td>1.372299</td>\n",
       "      <td>0.927308</td>\n",
       "      <td>0.423379</td>\n",
       "    </tr>\n",
       "    <tr>\n",
       "      <th>std</th>\n",
       "      <td>0.687050</td>\n",
       "      <td>1.193888</td>\n",
       "      <td>1.778000</td>\n",
       "      <td>0.592906</td>\n",
       "      <td>1.230180</td>\n",
       "      <td>1.871135</td>\n",
       "      <td>1.988529</td>\n",
       "      <td>0.853205</td>\n",
       "      <td>1.331106</td>\n",
       "      <td>1.783335</td>\n",
       "      <td>...</td>\n",
       "      <td>2.833449</td>\n",
       "      <td>1.316327</td>\n",
       "      <td>1.629317</td>\n",
       "      <td>1.819820</td>\n",
       "      <td>2.281702</td>\n",
       "      <td>1.041106</td>\n",
       "      <td>0.413362</td>\n",
       "      <td>1.729466</td>\n",
       "      <td>1.571821</td>\n",
       "      <td>0.738413</td>\n",
       "    </tr>\n",
       "    <tr>\n",
       "      <th>min</th>\n",
       "      <td>0.000000</td>\n",
       "      <td>0.000000</td>\n",
       "      <td>0.000000</td>\n",
       "      <td>0.000000</td>\n",
       "      <td>0.000000</td>\n",
       "      <td>0.000000</td>\n",
       "      <td>0.000000</td>\n",
       "      <td>0.000000</td>\n",
       "      <td>0.000000</td>\n",
       "      <td>0.000000</td>\n",
       "      <td>...</td>\n",
       "      <td>0.000000</td>\n",
       "      <td>0.000000</td>\n",
       "      <td>0.000000</td>\n",
       "      <td>0.000000</td>\n",
       "      <td>0.000000</td>\n",
       "      <td>0.000000</td>\n",
       "      <td>0.000000</td>\n",
       "      <td>0.000000</td>\n",
       "      <td>0.000000</td>\n",
       "      <td>0.000000</td>\n",
       "    </tr>\n",
       "    <tr>\n",
       "      <th>25%</th>\n",
       "      <td>0.000000</td>\n",
       "      <td>0.000000</td>\n",
       "      <td>0.000000</td>\n",
       "      <td>0.000000</td>\n",
       "      <td>0.000000</td>\n",
       "      <td>0.000000</td>\n",
       "      <td>0.000000</td>\n",
       "      <td>0.000000</td>\n",
       "      <td>0.000000</td>\n",
       "      <td>0.000000</td>\n",
       "      <td>...</td>\n",
       "      <td>1.000000</td>\n",
       "      <td>0.000000</td>\n",
       "      <td>0.000000</td>\n",
       "      <td>0.000000</td>\n",
       "      <td>1.000000</td>\n",
       "      <td>0.000000</td>\n",
       "      <td>0.000000</td>\n",
       "      <td>0.000000</td>\n",
       "      <td>0.000000</td>\n",
       "      <td>0.000000</td>\n",
       "    </tr>\n",
       "    <tr>\n",
       "      <th>50%</th>\n",
       "      <td>0.000000</td>\n",
       "      <td>0.000000</td>\n",
       "      <td>1.000000</td>\n",
       "      <td>0.000000</td>\n",
       "      <td>0.000000</td>\n",
       "      <td>1.000000</td>\n",
       "      <td>1.000000</td>\n",
       "      <td>0.000000</td>\n",
       "      <td>1.000000</td>\n",
       "      <td>1.000000</td>\n",
       "      <td>...</td>\n",
       "      <td>2.000000</td>\n",
       "      <td>1.000000</td>\n",
       "      <td>1.000000</td>\n",
       "      <td>1.000000</td>\n",
       "      <td>2.000000</td>\n",
       "      <td>0.000000</td>\n",
       "      <td>0.000000</td>\n",
       "      <td>1.000000</td>\n",
       "      <td>0.000000</td>\n",
       "      <td>0.000000</td>\n",
       "    </tr>\n",
       "    <tr>\n",
       "      <th>75%</th>\n",
       "      <td>1.000000</td>\n",
       "      <td>1.000000</td>\n",
       "      <td>2.000000</td>\n",
       "      <td>0.000000</td>\n",
       "      <td>1.000000</td>\n",
       "      <td>3.000000</td>\n",
       "      <td>3.000000</td>\n",
       "      <td>1.000000</td>\n",
       "      <td>2.000000</td>\n",
       "      <td>3.000000</td>\n",
       "      <td>...</td>\n",
       "      <td>4.000000</td>\n",
       "      <td>2.000000</td>\n",
       "      <td>2.000000</td>\n",
       "      <td>2.000000</td>\n",
       "      <td>4.000000</td>\n",
       "      <td>1.000000</td>\n",
       "      <td>0.000000</td>\n",
       "      <td>2.000000</td>\n",
       "      <td>1.000000</td>\n",
       "      <td>1.000000</td>\n",
       "    </tr>\n",
       "    <tr>\n",
       "      <th>max</th>\n",
       "      <td>6.000000</td>\n",
       "      <td>7.000000</td>\n",
       "      <td>14.000000</td>\n",
       "      <td>4.000000</td>\n",
       "      <td>12.000000</td>\n",
       "      <td>11.000000</td>\n",
       "      <td>13.000000</td>\n",
       "      <td>7.000000</td>\n",
       "      <td>9.000000</td>\n",
       "      <td>11.000000</td>\n",
       "      <td>...</td>\n",
       "      <td>14.000000</td>\n",
       "      <td>8.000000</td>\n",
       "      <td>8.000000</td>\n",
       "      <td>10.000000</td>\n",
       "      <td>13.000000</td>\n",
       "      <td>6.000000</td>\n",
       "      <td>3.000000</td>\n",
       "      <td>13.000000</td>\n",
       "      <td>11.000000</td>\n",
       "      <td>5.000000</td>\n",
       "    </tr>\n",
       "  </tbody>\n",
       "</table>\n",
       "<p>8 rows × 64 columns</p>\n",
       "</div>"
      ],
      "text/plain": [
       "               aaa          aac          aag          aat          aca  \\\n",
       "count  1018.000000  1018.000000  1018.000000  1018.000000  1018.000000   \n",
       "mean      0.365422     0.830059     1.324165     0.289784     0.757367   \n",
       "std       0.687050     1.193888     1.778000     0.592906     1.230180   \n",
       "min       0.000000     0.000000     0.000000     0.000000     0.000000   \n",
       "25%       0.000000     0.000000     0.000000     0.000000     0.000000   \n",
       "50%       0.000000     0.000000     1.000000     0.000000     0.000000   \n",
       "75%       1.000000     1.000000     2.000000     0.000000     1.000000   \n",
       "max       6.000000     7.000000    14.000000     4.000000    12.000000   \n",
       "\n",
       "               acc          acg          act          aga          agc  ...  \\\n",
       "count  1018.000000  1018.000000  1018.000000  1018.000000  1018.000000  ...   \n",
       "mean      1.687623     1.861493     0.487230     1.005894     1.857564  ...   \n",
       "std       1.871135     1.988529     0.853205     1.331106     1.783335  ...   \n",
       "min       0.000000     0.000000     0.000000     0.000000     0.000000  ...   \n",
       "25%       0.000000     0.000000     0.000000     0.000000     0.000000  ...   \n",
       "50%       1.000000     1.000000     0.000000     1.000000     1.000000  ...   \n",
       "75%       3.000000     3.000000     1.000000     2.000000     3.000000  ...   \n",
       "max      11.000000    13.000000     7.000000     9.000000    11.000000  ...   \n",
       "\n",
       "               tcg          tct          tga          tgc          tgg  \\\n",
       "count  1018.000000  1018.000000  1018.000000  1018.000000  1018.000000   \n",
       "mean      2.944990     1.028487     1.350688     1.549116     2.287819   \n",
       "std       2.833449     1.316327     1.629317     1.819820     2.281702   \n",
       "min       0.000000     0.000000     0.000000     0.000000     0.000000   \n",
       "25%       1.000000     0.000000     0.000000     0.000000     1.000000   \n",
       "50%       2.000000     1.000000     1.000000     1.000000     2.000000   \n",
       "75%       4.000000     2.000000     2.000000     2.000000     4.000000   \n",
       "max      14.000000     8.000000     8.000000    10.000000    13.000000   \n",
       "\n",
       "               tgt          tta          ttc          ttg          ttt  \n",
       "count  1018.000000  1018.000000  1018.000000  1018.000000  1018.000000  \n",
       "mean      0.722004     0.144401     1.372299     0.927308     0.423379  \n",
       "std       1.041106     0.413362     1.729466     1.571821     0.738413  \n",
       "min       0.000000     0.000000     0.000000     0.000000     0.000000  \n",
       "25%       0.000000     0.000000     0.000000     0.000000     0.000000  \n",
       "50%       0.000000     0.000000     1.000000     0.000000     0.000000  \n",
       "75%       1.000000     0.000000     2.000000     1.000000     1.000000  \n",
       "max       6.000000     3.000000    13.000000    11.000000     5.000000  \n",
       "\n",
       "[8 rows x 64 columns]"
      ]
     },
     "metadata": {},
     "output_type": "display_data"
    }
   ],
   "source": [
    "freq3 = countFreq(allCombo3,wordLst,3)\n",
    "df_3LW = pd.DataFrame.from_dict(freq3) #dataframe of three letter word\n",
    "display(df_3LW.head())\n",
    "display(df_3LW.describe())"
   ]
  },
  {
   "cell_type": "code",
   "execution_count": 60,
   "metadata": {},
   "outputs": [
    {
     "data": {
      "text/plain": [
       "<AxesSubplot:xlabel='principal component 1', ylabel='principal component 2'>"
      ]
     },
     "execution_count": 60,
     "metadata": {},
     "output_type": "execute_result"
    },
    {
     "data": {
      "image/png": "[encoded data removed]",
      "text/plain": [
       "<Figure size 432x288 with 1 Axes>"
      ]
     },
     "metadata": {},
     "output_type": "display_data"
    }
   ],
   "source": [
    "\n",
    "df3 = StandardScaler().fit_transform(df_3LW)\n",
    "\n",
    "pca = PCA(n_components=2)\n",
    "\n",
    "#reduced data\n",
    "principalComponents = pca.fit_transform(df3)\n",
    "\n",
    "principalDf3 = pd.DataFrame(data = principalComponents\n",
    "             , columns = ['principal component 1', 'principal component 2'])\n",
    "principalDf3.plot.scatter(x = 'principal component 1',y='principal component 2' )"
   ]
  },
  {
   "cell_type": "markdown",
   "metadata": {},
   "source": [
    "# K-Means Clustering Applied to the PCA-data"
   ]
  },
  {
   "cell_type": "markdown",
   "metadata": {},
   "source": [
    "We present some code for choosing the number of clusters using iteration through:\n",
    "1. SSE\n",
    "2. Silhouette Coeff - which is metric to measure the effectiveness of clustering "
   ]
  },
  {
   "cell_type": "code",
   "execution_count": 37,
   "metadata": {},
   "outputs": [],
   "source": [
    "kmeans_kwargs = {\n",
    "    \"init\":\"random\",\n",
    "    \"n_init\": 10,\n",
    "    \"max_iter\": 300,\n",
    "    \"random_state\": 42,\n",
    "}"
   ]
  },
  {
   "cell_type": "code",
   "execution_count": 38,
   "metadata": {},
   "outputs": [],
   "source": [
    "sse = []\n",
    "for k in range(1,11):\n",
    "    kmeans = KMeans(n_clusters=k, **kmeans_kwargs)\n",
    "    kmeans.fit(principalComponents)\n",
    "    sse.append(kmeans.inertia_)"
   ]
  },
  {
   "cell_type": "code",
   "execution_count": 39,
   "metadata": {},
   "outputs": [
    {
     "data": {
      "text/plain": [
       "Text(0, 0.5, 'SSE')"
      ]
     },
     "execution_count": 39,
     "metadata": {},
     "output_type": "execute_result"
    },
    {
     "data": {
      "image/png": "[encoded data removed]",
      "text/plain": [
       "<Figure size 432x288 with 1 Axes>"
      ]
     },
     "metadata": {},
     "output_type": "display_data"
    }
   ],
   "source": [
    "plt.style.use(\"seaborn-darkgrid\")\n",
    "plt.plot(range(1,11),sse)\n",
    "plt.xticks(range(1,11))\n",
    "plt.xlabel(\"Number of Clusters\")\n",
    "plt.ylabel(\"SSE\")"
   ]
  },
  {
   "cell_type": "code",
   "execution_count": 40,
   "metadata": {},
   "outputs": [
    {
     "data": {
      "text/plain": [
       "3"
      ]
     },
     "execution_count": 40,
     "metadata": {},
     "output_type": "execute_result"
    }
   ],
   "source": [
    "kl =   KneeLocator(range(1,11),sse,curve=\"convex\",direction=\"decreasing\")\n",
    "kl.elbow"
   ]
  },
  {
   "cell_type": "code",
   "execution_count": 41,
   "metadata": {},
   "outputs": [],
   "source": [
    "silhouette_coeff = []\n",
    "for k in range(2,11): #min 2 clusters are needed\n",
    "    kmeans = KMeans(n_clusters=k, **kmeans_kwargs)\n",
    "    kmeans.fit(principalComponents)\n",
    "    score = silhouette_score(df3,kmeans.labels_)\n",
    "    silhouette_coeff.append(score)"
   ]
  },
  {
   "cell_type": "code",
   "execution_count": 42,
   "metadata": {
    "scrolled": true
   },
   "outputs": [
    {
     "data": {
      "text/plain": [
       "Text(0, 0.5, 'silhouette_coeff')"
      ]
     },
     "execution_count": 42,
     "metadata": {},
     "output_type": "execute_result"
    },
    {
     "data": {
      "image/png": "[encoded data removed]",
      "text/plain": [
       "<Figure size 432x288 with 1 Axes>"
      ]
     },
     "metadata": {},
     "output_type": "display_data"
    }
   ],
   "source": [
    "plt.style.use(\"seaborn-darkgrid\")\n",
    "plt.plot(range(2,11),silhouette_coeff)\n",
    "plt.xticks(range(2,11))\n",
    "plt.xlabel(\"Number of Clusters\")\n",
    "plt.ylabel(\"silhouette_coeff\")"
   ]
  },
  {
   "cell_type": "markdown",
   "metadata": {},
   "source": [
    "Based on the SSE plot, knee locator, PCA image and silhouette coeff, I choose clusters = 3 or 7.\n",
    "Visually from PCA plot, 7 makes more sense. \n"
   ]
  },
  {
   "cell_type": "code",
   "execution_count": 63,
   "metadata": {},
   "outputs": [],
   "source": [
    "kmeans = KMeans(n_clusters=7, **kmeans_kwargs)\n",
    "kmeans.fit(principalComponents)\n",
    "y_kmeans = kmeans.predict(principalComponents)\n",
    "centers = kmeans.cluster_centers_"
   ]
  },
  {
   "cell_type": "code",
   "execution_count": 66,
   "metadata": {},
   "outputs": [
    {
     "data": {
      "image/png": "[encoded data removed]",
      "text/plain": [
       "<Figure size 432x288 with 1 Axes>"
      ]
     },
     "metadata": {},
     "output_type": "display_data"
    }
   ],
   "source": [
    "plt.scatter(principalDf3['principal component 1'], principalDf3['principal component 2'], c = y_kmeans, s = 30, cmap = 'summer')\n",
    "\n",
    "\n",
    "plt.scatter(centers[:, 0], centers[:, 1], c='black', s=100, alpha=0.5);"
   ]
  },
  {
   "cell_type": "markdown",
   "metadata": {},
   "source": [
    "# Example word length: 4, combinations=4^4 (256), perform PCA to see if a pattern emerges. "
   ]
  },
  {
   "cell_type": "code",
   "execution_count": 42,
   "metadata": {},
   "outputs": [
    {
     "data": {
      "text/plain": [
       "<AxesSubplot:xlabel='principal component 1', ylabel='principal component 2'>"
      ]
     },
     "execution_count": 42,
     "metadata": {},
     "output_type": "execute_result"
    },
    {
     "data": {
      "image/png": "[encoded data removed]",
      "text/plain": [
       "<Figure size 432x288 with 1 Axes>"
      ]
     },
     "metadata": {
      "needs_background": "light"
     },
     "output_type": "display_data"
    }
   ],
   "source": [
    "freq4 = countFreq(allCombo4,wordLst,4)\n",
    "df_4LW = pd.DataFrame.from_dict(freq4) #dataframe of two letter word\n",
    "df_4LW.head()\n",
    "df4 = StandardScaler().fit_transform(df_4LW)\n",
    "\n",
    "pca = PCA(n_components=2)\n",
    "principalComponents = pca.fit_transform(df4)\n",
    "principalDf = pd.DataFrame(data = principalComponents\n",
    "             , columns = ['principal component 1', 'principal component 2'])\n",
    "principalDf.plot.scatter(x = 'principal component 1',y='principal component 2' )"
   ]
  },
  {
   "cell_type": "markdown",
   "metadata": {},
   "source": [
    "Conclusion: No distinguishable pattern. "
   ]
  },
  {
   "cell_type": "code",
   "execution_count": null,
   "metadata": {},
   "outputs": [],
   "source": []
  },
  {
   "cell_type": "code",
   "execution_count": null,
   "metadata": {},
   "outputs": [],
   "source": []
  }
 ],
 "metadata": {
  "kernelspec": {
   "display_name": "Python 3",
   "language": "python",
   "name": "python3"
  },
  "language_info": {
   "codemirror_mode": {
    "name": "ipython",
    "version": 3
   },
   "file_extension": ".py",
   "mimetype": "text/x-python",
   "name": "python",
   "nbconvert_exporter": "python",
   "pygments_lexer": "ipython3",
   "version": "3.7.9"
  }
 },
 "nbformat": 4,
 "nbformat_minor": 4
}
